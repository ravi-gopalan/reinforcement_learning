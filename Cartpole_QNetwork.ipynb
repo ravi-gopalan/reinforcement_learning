{
  "nbformat": 4,
  "nbformat_minor": 0,
  "metadata": {
    "colab": {
      "name": "Cartpole_QNetwork.ipynb",
      "version": "0.3.2",
      "provenance": [],
      "toc_visible": true,
      "include_colab_link": true
    },
    "language_info": {
      "codemirror_mode": {
        "name": "ipython",
        "version": 3
      },
      "file_extension": ".py",
      "mimetype": "text/x-python",
      "name": "python",
      "nbconvert_exporter": "python",
      "pygments_lexer": "ipython3",
      "version": "3.5.5"
    },
    "kernelspec": {
      "display_name": "Python [conda env:ML]",
      "language": "python",
      "name": "conda-env-ML-py"
    },
    "accelerator": "GPU"
  },
  "cells": [
    {
      "cell_type": "markdown",
      "metadata": {
        "id": "view-in-github",
        "colab_type": "text"
      },
      "source": [
        "<a href=\"https://colab.research.google.com/github/ravi-gopalan/reinforment_learning/blob/master/Cartpole_QNetwork.ipynb\" target=\"_parent\"><img src=\"https://colab.research.google.com/assets/colab-badge.svg\" alt=\"Open In Colab\"/></a>"
      ]
    },
    {
      "cell_type": "markdown",
      "metadata": {
        "id": "mZslyUwYGDuM",
        "colab_type": "text"
      },
      "source": [
        "# Deep $Q$-learning\n",
        "\n",
        "In this notebook, we'll build a neural network that can learn to play games through reinforcement learning. More specifically, we'll use $Q$-learning to train an agent to play a game called [Cart-Pole](https://gym.openai.com/envs/CartPole-v0). In this game, a freely swinging pole is attached to a cart. The cart can move to the left and right, and the goal is to keep the pole upright as long as possible.\n",
        "\n",
        "![Cart-Pole](https://leimao.github.io/images/articles/2017-04-28-Deep-Q-Learning-CartPole/cartpole.png)\n",
        "\n",
        "\n",
        "We can simulate this game using [OpenAI Gym](https://github.com/openai/gym). First, let's check out how OpenAI Gym works. Then, we'll get into training an agent to play the Cart-Pole game."
      ]
    },
    {
      "cell_type": "code",
      "metadata": {
        "id": "nwZ9D-taGDuR",
        "colab_type": "code",
        "colab": {}
      },
      "source": [
        "import gym\n",
        "import numpy as np\n",
        "import random\n",
        "import PIL\n",
        "import matplotlib.pyplot as plt\n"
      ],
      "execution_count": 0,
      "outputs": []
    },
    {
      "cell_type": "code",
      "metadata": {
        "id": "2tktNRkm8hne",
        "colab_type": "code",
        "colab": {
          "base_uri": "https://localhost:8080/",
          "height": 34
        },
        "outputId": "ed902df2-7a75-4ded-d408-315c7b858632"
      },
      "source": [
        "# Create the Cart-Pole game environment\n",
        "env = gym.make('CartPole-v1')\n",
        "\n",
        "# Number of possible actions\n",
        "print('Number of possible actions:', env.action_space.n)"
      ],
      "execution_count": 2,
      "outputs": [
        {
          "output_type": "stream",
          "text": [
            "Number of possible actions: 2\n"
          ],
          "name": "stdout"
        }
      ]
    },
    {
      "cell_type": "code",
      "metadata": {
        "id": "HgaC50slGDus",
        "colab_type": "code",
        "colab": {
          "base_uri": "https://localhost:8080/",
          "height": 34
        },
        "outputId": "85e4c6e6-af07-4381-c7d7-0cebd78f6f48"
      },
      "source": [
        "print(env.observation_space.shape)\n",
        "\n",
        "left = [1,0]\n",
        "right = [0,1]\n",
        "possible_actions = [0, 1]\n"
      ],
      "execution_count": 3,
      "outputs": [
        {
          "output_type": "stream",
          "text": [
            "(4,)\n"
          ],
          "name": "stdout"
        }
      ]
    },
    {
      "cell_type": "code",
      "metadata": {
        "id": "3bgQkgZSGDu9",
        "colab_type": "code",
        "colab": {}
      },
      "source": [
        ""
      ],
      "execution_count": 0,
      "outputs": []
    },
    {
      "cell_type": "markdown",
      "metadata": {
        "id": "qpWjUTDZGDvL",
        "colab_type": "text"
      },
      "source": [
        "We interact with the simulation through `env`.  You can see how many actions are possible from `env.action_space.n`, and to get a random action you can use `env.action_space.sample()`.  Passing in an action as an integer to `env.step` will generate the next step in the simulation.  This is general to all Gym games. \n",
        "\n",
        "In the Cart-Pole game, there are two possible actions, moving the cart left or right. So there are two actions we can take, encoded as 0 and 1.\n",
        "\n",
        "Run the code below to interact with the environment."
      ]
    },
    {
      "cell_type": "code",
      "metadata": {
        "id": "g831oLJFGDvN",
        "colab_type": "code",
        "colab": {}
      },
      "source": [
        "actions = [] # actions that the agent selects\n",
        "rewards = [] # obtained rewards\n",
        "state = env.reset()\n",
        "\n",
        "while True:\n",
        "    action = env.action_space.sample()  # choose a random action\n",
        "    state, reward, done, _ = env.step(action) \n",
        "    rewards.append(reward)\n",
        "    actions.append(action)\n",
        "    if done:\n",
        "        break"
      ],
      "execution_count": 0,
      "outputs": []
    },
    {
      "cell_type": "markdown",
      "metadata": {
        "id": "9aFwmLrLGDvS",
        "colab_type": "text"
      },
      "source": [
        "We can look at the actions and rewards:"
      ]
    },
    {
      "cell_type": "code",
      "metadata": {
        "id": "AtsDsy6JGDvU",
        "colab_type": "code",
        "colab": {
          "base_uri": "https://localhost:8080/",
          "height": 51
        },
        "outputId": "219a3d87-c63f-492c-acbb-83db65e20101"
      },
      "source": [
        "print('Actions:', actions)\n",
        "print('Rewards:', rewards)"
      ],
      "execution_count": 5,
      "outputs": [
        {
          "output_type": "stream",
          "text": [
            "Actions: [0, 1, 1, 0, 1, 1, 1, 1, 1, 1, 1, 0]\n",
            "Rewards: [1.0, 1.0, 1.0, 1.0, 1.0, 1.0, 1.0, 1.0, 1.0, 1.0, 1.0, 1.0]\n"
          ],
          "name": "stdout"
        }
      ]
    },
    {
      "cell_type": "markdown",
      "metadata": {
        "id": "A68xy9SlGDvb",
        "colab_type": "text"
      },
      "source": [
        "The game resets after the pole has fallen past a certain angle. For each step while the game is running, it returns a reward of 1.0. The longer the game runs, the more reward we get. Then, our network's goal is to maximize the reward by keeping the pole vertical. It will do this by moving the cart to the left and the right.\n",
        "\n",
        "## $Q$-Network\n",
        "\n",
        "To keep track of the action values, we'll use a neural network that accepts a state $s$ as input.  The output will be $Q$-values for each available action $a$ (i.e., the output is **all** action values $Q(s,a)$ _corresponding to the input state $s$_).\n",
        "\n",
        "<img src='assets/q-network.png' width=550px>\n",
        "\n",
        "For this Cart-Pole game, the state has four values: the position and velocity of the cart, and the position and velocity of the pole.  Thus, the neural network has **four inputs**, one for each value in the state, and **two outputs**, one for each possible action. \n",
        "\n",
        "As explored in the lesson, to get the training target, we'll first use the context provided by the state $s$ to choose an action $a$, then simulate the game using that action. This will get us the next state, $s'$, and the reward $r$. With that, we can calculate $\\hat{Q}(s,a) = r + \\gamma \\max_{a'}{Q(s', a')}$.  Then we update the weights by minimizing $(\\hat{Q}(s,a) - Q(s,a))^2$. \n",
        "\n",
        "Below is one implementation of the $Q$-network. It uses two fully connected layers with ReLU activations. Two seems to be good enough, three might be better. Feel free to try it out."
      ]
    },
    {
      "cell_type": "code",
      "metadata": {
        "id": "cFNF5BuSGDvd",
        "colab_type": "code",
        "colab": {}
      },
      "source": [
        "import tensorflow as tf\n",
        "\n",
        "class QNetwork:\n",
        "    def __init__(self, learning_rate=0.01, state_size=4, \n",
        "                 action_size=2, hidden_size=10, \n",
        "                 name='QNetwork'):\n",
        "        # state inputs to the Q-network\n",
        "        with tf.variable_scope(name):\n",
        "            self.inputs_ = tf.placeholder(tf.float32, [None, state_size], name='inputs')\n",
        "            \n",
        "            # One hot encode the actions to later choose the Q-value for the action\n",
        "            self.actions_ = tf.placeholder(tf.int32, [None], name='actions')\n",
        "            one_hot_actions = tf.one_hot(self.actions_, action_size)\n",
        "            \n",
        "            # Target Q values for training\n",
        "            self.targetQs_ = tf.placeholder(tf.float32, [None], name='target')\n",
        "\n",
        "          \n",
        "            \n",
        "            # ReLU hidden layers\n",
        "            self.fc1 = tf.contrib.layers.fully_connected(self.inputs_, hidden_size)\n",
        "            self.drop1 = tf.contrib.layers.dropout(self.fc1,keep_prob=0.9)\n",
        "#            self.norm1 = tf.contrib.layers.batch_norm(self.drop1)\n",
        "            \n",
        "            self.fc2 = tf.contrib.layers.fully_connected(self.drop1, hidden_size)\n",
        "            self.drop2 = tf.contrib.layers.dropout(self.fc2,keep_prob=0.9)\n",
        "#            self.norm2 = tf.contrib.layers.batch_norm(self.drop2)\n",
        "\n",
        "            self.fc3 = tf.contrib.layers.fully_connected(self.drop2, hidden_size)\n",
        "            self.drop3 = tf.contrib.layers.dropout(self.fc3,keep_prob=0.9)            \n",
        "#            self.norm3 = tf.contrib.layers.batch_norm(self.drop3)\n",
        "\n",
        "            self.fc4 = tf.contrib.layers.fully_connected(self.drop3, hidden_size)\n",
        "            \n",
        "\n",
        "            # Linear output layer\n",
        "            self.output = tf.contrib.layers.fully_connected(self.fc4, action_size, \n",
        "                                                            activation_fn=None)\n",
        "            \n",
        "            ### Train with loss (targetQ - Q)^2\n",
        "            # output has length 2, for two actions. This next line chooses\n",
        "            # one value from output (per row) according to the one-hot encoded actions.\n",
        "            self.Q = tf.reduce_sum(tf.multiply(self.output, one_hot_actions), axis=1)\n",
        "            \n",
        "            self.loss = tf.reduce_mean(tf.square(self.targetQs_ - self.Q))\n",
        "#            self.opt = tf.train.AdamOptimizer(learning_rate).minimize(self.loss)\n",
        "            self.opt = tf.train.RMSPropOptimizer(learning_rate).minimize(self.loss)\n"
      ],
      "execution_count": 0,
      "outputs": []
    },
    {
      "cell_type": "markdown",
      "metadata": {
        "id": "K671jk1PGDvj",
        "colab_type": "text"
      },
      "source": [
        "## Experience replay\n",
        "\n",
        "Reinforcement learning algorithms can have stability issues due to correlations between states. To reduce correlations when training, we can store the agent's experiences and later draw a random mini-batch of those experiences to train on. \n",
        "\n",
        "Here, we'll create a `Memory` object that will store our experiences, our transitions $<s, a, r, s'>$. This memory will have a maximum capacity, so we can keep newer experiences in memory while getting rid of older experiences. Then, we'll sample a random mini-batch of transitions $<s, a, r, s'>$ and train on those.\n",
        "\n",
        "Below, I've implemented a `Memory` object. If you're unfamiliar with `deque`, this is a double-ended queue. You can think of it like a tube open on both sides. You can put objects in either side of the tube. But if it's full, adding anything more will push an object out the other side. This is a great data structure to use for the memory buffer."
      ]
    },
    {
      "cell_type": "code",
      "metadata": {
        "id": "JSNzoI0nGDvm",
        "colab_type": "code",
        "colab": {}
      },
      "source": [
        "from collections import deque\n",
        "\n",
        "class Memory():\n",
        "    def __init__(self, max_size=1000):\n",
        "        self.buffer = deque(maxlen=max_size)\n",
        "    \n",
        "    def add(self, experience):\n",
        "        self.buffer.append(experience)\n",
        "            \n",
        "    def sample(self, batch_size):\n",
        "        idx = np.random.choice(np.arange(len(self.buffer)), \n",
        "                               size=batch_size, \n",
        "                               replace=False)\n",
        "        return [self.buffer[ii] for ii in idx]"
      ],
      "execution_count": 0,
      "outputs": []
    },
    {
      "cell_type": "markdown",
      "metadata": {
        "id": "WwuEA0nyGDvu",
        "colab_type": "text"
      },
      "source": [
        "## $Q$-Learning training algorithm\n",
        "\n",
        "We will use the below algorithm to train the network.  For this game, the goal is to keep the pole upright for 195 frames. So we can start a new episode once meeting that goal. The game ends if the pole tilts over too far, or if the cart moves too far the left or right. When a game ends, we'll start a new episode. Now, to train the agent:\n",
        "\n",
        "* Initialize the memory $D$\n",
        "* Initialize the action-value network $Q$ with random weights\n",
        "* **For** episode $\\leftarrow 1$ **to** $M$ **do**\n",
        "  * Observe $s_0$\n",
        "  * **For** $t \\leftarrow 0$ **to** $T-1$ **do**\n",
        "     * With probability $\\epsilon$ select a random action $a_t$, otherwise select $a_t = \\mathrm{argmax}_a Q(s_t,a)$\n",
        "     * Execute action $a_t$ in simulator and observe reward $r_{t+1}$ and new state $s_{t+1}$\n",
        "     * Store transition $<s_t, a_t, r_{t+1}, s_{t+1}>$ in memory $D$\n",
        "     * Sample random mini-batch from $D$: $<s_j, a_j, r_j, s'_j>$\n",
        "     * Set $\\hat{Q}_j = r_j$ if the episode ends at $j+1$, otherwise set $\\hat{Q}_j = r_j + \\gamma \\max_{a'}{Q(s'_j, a')}$\n",
        "     * Make a gradient descent step with loss $(\\hat{Q}_j - Q(s_j, a_j))^2$\n",
        "  * **endfor**\n",
        "* **endfor**\n",
        "\n",
        "You are welcome (and encouraged!) to take the time to extend this code to implement some of the improvements that we discussed in the lesson, to include fixed $Q$ targets, double DQNs, prioritized replay, and/or dueling networks.\n",
        "\n",
        "## Hyperparameters\n",
        "\n",
        "One of the more difficult aspects of reinforcement learning is the large number of hyperparameters. Not only are we tuning the network, but we're tuning the simulation."
      ]
    },
    {
      "cell_type": "code",
      "metadata": {
        "id": "kIx9eG2QGDvx",
        "colab_type": "code",
        "colab": {}
      },
      "source": [
        "train_episodes = 1000          # max number of episodes to learn from\n",
        "max_steps = 200                # max steps in an episode\n",
        "gamma = 0.95                   # future reward discount\n",
        "\n",
        "# Exploration parameters\n",
        "explore_start = 1.0            # exploration probability at start\n",
        "explore_stop = 0.001            # minimum exploration probability \n",
        "decay_rate = 0.0001            # exponential decay rate for exploration prob\n",
        "\n",
        "# Network parameters\n",
        "hidden_size = 512               # number of units in each Q-network hidden layer\n",
        "learning_rate = 0.0001         # Q-network learning rate\n",
        "\n",
        "# Memory parameters\n",
        "memory_size = 1000000            # memory capacity\n",
        "batch_size = 512                # experience mini-batch size\n",
        "pretrain_length = batch_size   # number experiences to pretrain the memory"
      ],
      "execution_count": 0,
      "outputs": []
    },
    {
      "cell_type": "code",
      "metadata": {
        "id": "f75-sUJXGDv6",
        "colab_type": "code",
        "colab": {}
      },
      "source": [
        "tf.reset_default_graph()\n",
        "mainQN = QNetwork(name='main', hidden_size=hidden_size, learning_rate=learning_rate)"
      ],
      "execution_count": 0,
      "outputs": []
    },
    {
      "cell_type": "markdown",
      "metadata": {
        "id": "ZsT9ZEXPGDwF",
        "colab_type": "text"
      },
      "source": [
        "## Populate the experience memory\n",
        "\n",
        "Here we re-initialize the simulation and pre-populate the memory. The agent is taking random actions and storing the transitions in memory. This will help the agent with exploring the game."
      ]
    },
    {
      "cell_type": "code",
      "metadata": {
        "id": "TY4XWj6dGDwI",
        "colab_type": "code",
        "colab": {}
      },
      "source": [
        "# Initialize the simulation\n",
        "env.reset()\n",
        "# Take one random step to get the pole and cart moving\n",
        "state, reward, done, _ = env.step(env.action_space.sample())\n",
        "\n",
        "memory = Memory(max_size=memory_size)\n",
        "\n",
        "# Make a bunch of random actions and store the experiences\n",
        "for ii in range(pretrain_length):\n",
        "\n",
        "    # Make a random action\n",
        "    action = env.action_space.sample()\n",
        "    next_state, reward, done, _ = env.step(action)\n",
        "\n",
        "    if done:\n",
        "        # The simulation fails so no next state\n",
        "        next_state = np.zeros(state.shape)\n",
        "        # Add experience to memory\n",
        "        memory.add((state, action, reward, next_state))\n",
        "        \n",
        "        # Start new episode\n",
        "        env.reset()\n",
        "        # Take one random step to get the pole and cart moving\n",
        "        state, reward, done, _ = env.step(env.action_space.sample())\n",
        "    else:\n",
        "        # Add experience to memory\n",
        "        memory.add((state, action, reward, next_state))\n",
        "        state = next_state"
      ],
      "execution_count": 0,
      "outputs": []
    },
    {
      "cell_type": "code",
      "metadata": {
        "id": "2Lx3y3-6a05u",
        "colab_type": "code",
        "colab": {}
      },
      "source": [
        "# Setup TensorBoard Writer\\n\",\n",
        "writer = tf.summary.FileWriter('/tensorboard/dqn/1')\n",
        "\n",
        "## Losses\\n\",\n",
        "tf.summary.scalar('Loss', mainQN.loss)\n",
        "write_op = tf.summary.merge_all()"
      ],
      "execution_count": 0,
      "outputs": []
    },
    {
      "cell_type": "code",
      "metadata": {
        "id": "rZxhFJEQGDwU",
        "colab_type": "code",
        "colab": {}
      },
      "source": [
        "\"\"\"\n",
        "This function will do the part\n",
        "With ϵ select a random action atat, otherwise select at=argmaxaQ(st,a)\n",
        "\"\"\"\n",
        "def predict_action(explore_start, explore_stop, decay_rate, decay_step, state, possible_actions):\n",
        "    ## EPSILON GREEDY STRATEGY\n",
        "    # Choose action a from state s using epsilon greedy.\n",
        "    ## First we randomize a number\n",
        "    exp_exp_tradeoff = np.random.rand()\n",
        "\n",
        "    # Here we'll use an improved version of our epsilon greedy strategy used in Q-learning notebook\n",
        "    explore_probability = explore_stop + (explore_start - explore_stop) * np.exp(-decay_rate * decay_step)\n",
        "    \n",
        "    if (explore_probability > exp_exp_tradeoff):\n",
        "        # Make a random action (exploration)\n",
        "        action = random.choice(possible_actions)\n",
        "        \n",
        "    else:\n",
        "        # Get action from Q-network (exploitation)\n",
        "        # Estimate the Qs values state\n",
        "        Qs = sess.run(mainQN.output, feed_dict = {mainQN.inputs_: state.reshape((1, *state.shape))})\n",
        "        \n",
        "        # Take the biggest Q value (= the best action)\n",
        "        choice = np.argmax(Qs)\n",
        "        action = possible_actions[int(choice)]\n",
        "                \n",
        "    return action, explore_probability"
      ],
      "execution_count": 0,
      "outputs": []
    },
    {
      "cell_type": "markdown",
      "metadata": {
        "id": "rfcrHU-IGDwY",
        "colab_type": "text"
      },
      "source": [
        "## Training\n",
        "\n",
        "Below we'll train our agent."
      ]
    },
    {
      "cell_type": "code",
      "metadata": {
        "id": "R8L_33VnGDwa",
        "colab_type": "code",
        "colab": {
          "base_uri": "https://localhost:8080/",
          "height": 1061
        },
        "outputId": "642a9d70-bd0a-4e9e-98ab-de49cb2b2fc5"
      },
      "source": [
        "# Now train with experiences\n",
        "saver = tf.train.Saver()\n",
        "rewards_list = []\n",
        "with tf.Session() as sess:\n",
        "    # Initialize variables\n",
        "    sess.run(tf.global_variables_initializer())\n",
        "    \n",
        "    step = 0\n",
        "    decay_step = 0\n",
        "    for ep in range(1, train_episodes):\n",
        "        total_reward = 0\n",
        "        t = 0\n",
        "\n",
        "        while t < max_steps:\n",
        "            step += 1\n",
        "            # Uncomment this next line to watch the training\n",
        "            # env.render() \n",
        "            \n",
        "            # Explore or Exploit\n",
        "            action, explore_p = predict_action(explore_start, explore_stop, decay_rate, step, state, possible_actions)\n",
        "            \n",
        "            # Take action, get new state and reward\n",
        "            next_state, reward, done, _ = env.step(action)\n",
        "            total_reward += reward\n",
        "            \n",
        "            if done:\n",
        "                # the episode ends so no next state\n",
        "                next_state = np.zeros(state.shape)\n",
        "                t = max_steps\n",
        "                \n",
        "                if ep % 10 == 0:\n",
        "                    print('Episode: {}'.format(ep),\n",
        "                          'Total reward: {}'.format(total_reward),\n",
        "                          'Training loss: {:.4f}'.format(loss),\n",
        "                          'Explore P: {:.4f}'.format(explore_p))\n",
        "                \n",
        "                rewards_list.append((ep, total_reward))\n",
        "                \n",
        "                # Add experience to memory\n",
        "                memory.add((state, action, reward, next_state))\n",
        "                \n",
        "                # Start new episode\n",
        "                env.reset()\n",
        "                # Take one random step to get the pole and cart moving\n",
        "                state, reward, done, _ = env.step(env.action_space.sample())\n",
        "\n",
        "            else:\n",
        "                # Add experience to memory\n",
        "                memory.add((state, action, reward, next_state))\n",
        "                state = next_state\n",
        "                t += 1\n",
        "            \n",
        "            # Sample mini-batch from memory\n",
        "            batch = memory.sample(batch_size)\n",
        "            states = np.array([each[0] for each in batch])\n",
        "            actions = np.array([each[1] for each in batch])\n",
        "            rewards = np.array([each[2] for each in batch])\n",
        "            next_states = np.array([each[3] for each in batch])\n",
        "            \n",
        "            # Train network\n",
        "            target_Qs = sess.run(mainQN.output, \\\n",
        "                                 feed_dict={mainQN.inputs_: next_states})\n",
        "            \n",
        "            # Set target_Qs to 0 for states where episode ends\n",
        "            episode_ends = (next_states == np.zeros(states[0].shape)).all(axis=1)\n",
        "            target_Qs[episode_ends] = (0, 0)\n",
        "            \n",
        "            targets = rewards + gamma * np.max(target_Qs, axis=1)\n",
        "\n",
        "            loss, _ = sess.run([mainQN.loss, mainQN.opt],\n",
        "                                feed_dict={mainQN.inputs_: states,\n",
        "                                           mainQN.targetQs_: targets,\n",
        "                                           mainQN.actions_: actions})\n",
        "            summary = sess.run(write_op, feed_dict={mainQN.inputs_: states,\n",
        "                                           mainQN.targetQs_: targets,\n",
        "                                           mainQN.actions_: actions})\n",
        "            writer.add_summary(summary, ep)\n",
        "            writer.flush()\n",
        "        \n",
        "    saver.save(sess, 'checkpoints/cartpole.ckpt')"
      ],
      "execution_count": 69,
      "outputs": [
        {
          "output_type": "stream",
          "text": [
            "Episode: 10 Total reward: 13.0 Training loss: 14.1366 Explore P: 0.9824\n",
            "Episode: 20 Total reward: 37.0 Training loss: 836.0693 Explore P: 0.9626\n",
            "Episode: 30 Total reward: 32.0 Training loss: 6.8701 Explore P: 0.9398\n",
            "Episode: 40 Total reward: 17.0 Training loss: 5.8243 Explore P: 0.9201\n",
            "Episode: 50 Total reward: 13.0 Training loss: 6.6908 Explore P: 0.8899\n",
            "Episode: 60 Total reward: 30.0 Training loss: 6.0996 Explore P: 0.8702\n",
            "Episode: 70 Total reward: 35.0 Training loss: 4.4101 Explore P: 0.8475\n",
            "Episode: 80 Total reward: 18.0 Training loss: 1.9209 Explore P: 0.8176\n",
            "Episode: 90 Total reward: 24.0 Training loss: 2.5694 Explore P: 0.7985\n",
            "Episode: 100 Total reward: 10.0 Training loss: 1.8194 Explore P: 0.7775\n",
            "Episode: 110 Total reward: 39.0 Training loss: 1.8282 Explore P: 0.7572\n",
            "Episode: 120 Total reward: 25.0 Training loss: 1.6608 Explore P: 0.7368\n",
            "Episode: 130 Total reward: 38.0 Training loss: 1.2634 Explore P: 0.7121\n",
            "Episode: 140 Total reward: 43.0 Training loss: 1.1108 Explore P: 0.6901\n",
            "Episode: 150 Total reward: 14.0 Training loss: 1.2376 Explore P: 0.6711\n",
            "Episode: 160 Total reward: 33.0 Training loss: 2.1806 Explore P: 0.6543\n",
            "Episode: 170 Total reward: 19.0 Training loss: 1.1186 Explore P: 0.6337\n",
            "Episode: 180 Total reward: 28.0 Training loss: 1.1260 Explore P: 0.6059\n",
            "Episode: 190 Total reward: 115.0 Training loss: 1.4474 Explore P: 0.5837\n",
            "Episode: 200 Total reward: 19.0 Training loss: 1.2189 Explore P: 0.5581\n",
            "Episode: 210 Total reward: 17.0 Training loss: 0.9532 Explore P: 0.5155\n",
            "Episode: 220 Total reward: 21.0 Training loss: 0.6774 Explore P: 0.4858\n",
            "Episode: 230 Total reward: 58.0 Training loss: 0.8647 Explore P: 0.4667\n",
            "Episode: 250 Total reward: 22.0 Training loss: 0.9071 Explore P: 0.4176\n",
            "Episode: 260 Total reward: 131.0 Training loss: 0.9365 Explore P: 0.3903\n",
            "Episode: 270 Total reward: 106.0 Training loss: 0.7853 Explore P: 0.3701\n",
            "Episode: 280 Total reward: 120.0 Training loss: 1.2965 Explore P: 0.3375\n",
            "Episode: 290 Total reward: 146.0 Training loss: 0.6928 Explore P: 0.3155\n",
            "Episode: 300 Total reward: 111.0 Training loss: 1.3176 Explore P: 0.2843\n",
            "Episode: 310 Total reward: 139.0 Training loss: 1.2039 Explore P: 0.2586\n",
            "Episode: 320 Total reward: 128.0 Training loss: 0.8150 Explore P: 0.2358\n",
            "Episode: 330 Total reward: 38.0 Training loss: 0.7872 Explore P: 0.2191\n",
            "Episode: 340 Total reward: 88.0 Training loss: 0.3801 Explore P: 0.1976\n",
            "Episode: 350 Total reward: 109.0 Training loss: 0.9850 Explore P: 0.1768\n",
            "Episode: 360 Total reward: 125.0 Training loss: 0.5164 Explore P: 0.1544\n",
            "Episode: 370 Total reward: 17.0 Training loss: 0.5741 Explore P: 0.1381\n",
            "Episode: 380 Total reward: 124.0 Training loss: 0.5605 Explore P: 0.1185\n",
            "Episode: 390 Total reward: 176.0 Training loss: 0.3941 Explore P: 0.1050\n",
            "Episode: 430 Total reward: 99.0 Training loss: 0.3502 Explore P: 0.0572\n",
            "Episode: 450 Total reward: 117.0 Training loss: 0.3515 Explore P: 0.0423\n",
            "Episode: 480 Total reward: 44.0 Training loss: 0.3212 Explore P: 0.0272\n",
            "Episode: 490 Total reward: 131.0 Training loss: 0.2585 Explore P: 0.0240\n",
            "Episode: 500 Total reward: 161.0 Training loss: 0.1872 Explore P: 0.0203\n",
            "Episode: 530 Total reward: 99.0 Training loss: 0.4558 Explore P: 0.0133\n",
            "Episode: 580 Total reward: 83.0 Training loss: 0.2040 Explore P: 0.0068\n",
            "Episode: 610 Total reward: 60.0 Training loss: 0.1217 Explore P: 0.0046\n",
            "Episode: 650 Total reward: 99.0 Training loss: 0.4403 Explore P: 0.0029\n",
            "Episode: 680 Total reward: 98.0 Training loss: 0.1024 Explore P: 0.0022\n",
            "Episode: 750 Total reward: 99.0 Training loss: 0.0686 Explore P: 0.0014\n",
            "Episode: 770 Total reward: 40.0 Training loss: 0.3024 Explore P: 0.0013\n",
            "Episode: 780 Total reward: 38.0 Training loss: 0.1632 Explore P: 0.0013\n",
            "Episode: 790 Total reward: 26.0 Training loss: 0.8279 Explore P: 0.0012\n",
            "Episode: 810 Total reward: 96.0 Training loss: 0.4397 Explore P: 0.0012\n",
            "Episode: 840 Total reward: 145.0 Training loss: 0.1015 Explore P: 0.0011\n",
            "Episode: 850 Total reward: 37.0 Training loss: 0.8764 Explore P: 0.0011\n",
            "Episode: 870 Total reward: 87.0 Training loss: 0.1138 Explore P: 0.0011\n",
            "Episode: 880 Total reward: 43.0 Training loss: 0.0723 Explore P: 0.0011\n",
            "Episode: 930 Total reward: 121.0 Training loss: 0.7977 Explore P: 0.0010\n",
            "Episode: 960 Total reward: 188.0 Training loss: 0.2483 Explore P: 0.0010\n",
            "Episode: 980 Total reward: 99.0 Training loss: 0.0455 Explore P: 0.0010\n"
          ],
          "name": "stdout"
        }
      ]
    },
    {
      "cell_type": "markdown",
      "metadata": {
        "id": "KChWI54VGDwg",
        "colab_type": "text"
      },
      "source": [
        "## Visualizing training\n",
        "\n",
        "Below we plot the total rewards for each episode. The rolling average is plotted in blue."
      ]
    },
    {
      "cell_type": "code",
      "metadata": {
        "id": "wBIGkqLDGDwh",
        "colab_type": "code",
        "colab": {}
      },
      "source": [
        "%matplotlib inline\n",
        "import matplotlib.pyplot as plt\n",
        "\n",
        "def running_mean(x, N):\n",
        "    cumsum = np.cumsum(np.insert(x, 0, 0)) \n",
        "    return (cumsum[N:] - cumsum[:-N]) / N "
      ],
      "execution_count": 0,
      "outputs": []
    },
    {
      "cell_type": "code",
      "metadata": {
        "id": "7Iu0qF9rGDwl",
        "colab_type": "code",
        "colab": {
          "base_uri": "https://localhost:8080/",
          "height": 300
        },
        "outputId": "6279206b-e2c2-4cf8-fef5-1e764f9cb2de"
      },
      "source": [
        "eps, rews = np.array(rewards_list).T\n",
        "smoothed_rews = running_mean(rews, 10)\n",
        "plt.plot(eps[-len(smoothed_rews):], smoothed_rews)\n",
        "plt.plot(eps, rews, color='grey', alpha=0.3)\n",
        "plt.xlabel('Episode')\n",
        "plt.ylabel('Total Reward')"
      ],
      "execution_count": 70,
      "outputs": [
        {
          "output_type": "execute_result",
          "data": {
            "text/plain": [
              "Text(0, 0.5, 'Total Reward')"
            ]
          },
          "metadata": {
            "tags": []
          },
          "execution_count": 70
        },
        {
          "output_type": "display_data",
          "data": {
            "image/png": "[encoded data removed]",
            "text/plain": [
              "<Figure size 432x288 with 1 Axes>"
            ]
          },
          "metadata": {
            "tags": []
          }
        }
      ]
    },
    {
      "cell_type": "markdown",
      "metadata": {
        "id": "xPgf87SSGDwt",
        "colab_type": "text"
      },
      "source": [
        "![png](output_21_1.png)\n",
        "\n",
        "\n",
        "## Playing Atari Games\n",
        "\n",
        "So, Cart-Pole is a pretty simple game. However, the same model can be used to train an agent to play something much more complicated like Pong or Space Invaders. Instead of a state like we're using here though, you'd want to use convolutional layers to get the state from the screen images.\n",
        "\n",
        "![Deep Q-Learning Atari](assets/atari-network.png)\n",
        "\n",
        "I'll leave it as a challenge for you to use deep Q-learning to train an agent to play Atari games. Here's the original paper which will get you started: http://www.davidqiu.com:8888/research/nature14236.pdf."
      ]
    },
    {
      "cell_type": "code",
      "metadata": {
        "id": "WbZ2BOhyGDwu",
        "colab_type": "code",
        "colab": {}
      },
      "source": [
        ""
      ],
      "execution_count": 0,
      "outputs": []
    }
  ]
}